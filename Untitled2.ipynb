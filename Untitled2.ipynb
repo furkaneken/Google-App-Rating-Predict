{
  "nbformat": 4,
  "nbformat_minor": 0,
  "metadata": {
    "colab": {
      "name": "Untitled2.ipynb",
      "provenance": [],
      "collapsed_sections": []
    },
    "kernelspec": {
      "name": "python3",
      "display_name": "Python 3"
    }
  },
  "cells": [
    {
      "cell_type": "code",
      "metadata": {
        "id": "SpcQQd2_Falw",
        "colab_type": "code",
        "colab": {
          "base_uri": "https://localhost:8080/",
          "height": 36
        },
        "outputId": "f9be360d-570e-44c6-d9b4-2ef0aa38037b"
      },
      "source": [
        "from google.colab import drive\n",
        "drive.mount('/content/gdrive/')\n",
        "\n",
        "\n",
        "from os.path import join\n",
        "\n",
        "import re\n",
        "import sys\n",
        "\n",
        "import time\n",
        "import datetime\n",
        "\n",
        "import numpy as np\n",
        "import pandas as pd\n",
        "from sklearn.neighbors import KNeighborsClassifier\n",
        "import seaborn as sns\n",
        "import matplotlib.pyplot as plt\n",
        "\n",
        "from sklearn import metrics\n",
        "from sklearn import preprocessing\n",
        "from sklearn.neighbors import KNeighborsRegressor\n",
        "from sklearn.ensemble import RandomForestRegressor\n",
        "from sklearn.model_selection import train_test_split\n",
        "path = \"/content/gdrive/My Drive\"\n",
        "filename = \"googleplaystore.csv\"\n",
        "\n",
        "df = pd.read_csv(join(path, filename))"
      ],
      "execution_count": 205,
      "outputs": [
        {
          "output_type": "stream",
          "text": [
            "Drive already mounted at /content/gdrive/; to attempt to forcibly remount, call drive.mount(\"/content/gdrive/\", force_remount=True).\n"
          ],
          "name": "stdout"
        }
      ]
    },
    {
      "cell_type": "markdown",
      "metadata": {
        "id": "oHcUXLpzxI59",
        "colab_type": "text"
      },
      "source": [
        "arkaşlar genel not bu report yazıcaklar için:\n",
        "\n",
        "bizim yanıt bulmaya çalıştığımız sorumuz şu : Bu datasetteki bilgileri kullanarak bir app in rating ini tahmin edebilir miyizm ML aracılığıyla ,\n",
        "burda kullandığımız mller : random forest regression(classification değil dikkat edin classificationla aralarında büyük fark var yarın anlatırım , sorabilirler zaten )\n",
        "ve knn. \n",
        "ulaştığımız sonucta : hayır bu bilgiler ışığında doğru bir şekilde tahmin edemiyoruz.\n",
        "bu reportta nerelerde ne yaptığımız hakkında birşeyler bulmak için hemen hemen her kodun yanına comment şeklinde ne yaptığımı neden yaptığımı yazdım onları kullanabilirsiniz. \n",
        "\n",
        "kerem , selçuk eger yarın erken uyanırsanız bu kodları mümkünolduğunca düzenli yazmaya calıstım bloklar halinde ama yinede blokları elden geçirirseniz iyi olur.\n",
        "\n",
        "\n",
        "\n",
        "DATA SCIENCE IS FUN , 5.24 AM.\n",
        "\n",
        "\n",
        "\n",
        "\n",
        "\n",
        "\n",
        "\n",
        "\n",
        "\n",
        "\n",
        "\n"
      ]
    },
    {
      "cell_type": "code",
      "metadata": {
        "id": "0neQ36gkFfkS",
        "colab_type": "code",
        "colab": {
          "base_uri": "https://localhost:8080/",
          "height": 279
        },
        "outputId": "b5002d1c-4b17-48ff-80c0-455a532f8038"
      },
      "source": [
        "#look for how many na values\n",
        "df.isna().sum()\n"
      ],
      "execution_count": 206,
      "outputs": [
        {
          "output_type": "execute_result",
          "data": {
            "text/plain": [
              "App                  0\n",
              "Category             0\n",
              "Rating            1474\n",
              "Reviews              0\n",
              "Size                 0\n",
              "Installs             0\n",
              "Type                 1\n",
              "Price                0\n",
              "Content Rating       1\n",
              "Genres               0\n",
              "Last Updated         0\n",
              "Current Ver          8\n",
              "Android Ver          3\n",
              "dtype: int64"
            ]
          },
          "metadata": {
            "tags": []
          },
          "execution_count": 206
        }
      ]
    },
    {
      "cell_type": "code",
      "metadata": {
        "id": "n8UFfe4wGM7-",
        "colab_type": "code",
        "colab": {
          "base_uri": "https://localhost:8080/",
          "height": 279
        },
        "outputId": "d12c156e-e31d-4f0b-8f5f-0ff903760e36"
      },
      "source": [
        "#we should remove all na values instead of replacing them with mean because it has a huge effect on Machine Learning\n",
        "df = df.dropna()\n",
        "df.isna().sum()"
      ],
      "execution_count": 207,
      "outputs": [
        {
          "output_type": "execute_result",
          "data": {
            "text/plain": [
              "App               0\n",
              "Category          0\n",
              "Rating            0\n",
              "Reviews           0\n",
              "Size              0\n",
              "Installs          0\n",
              "Type              0\n",
              "Price             0\n",
              "Content Rating    0\n",
              "Genres            0\n",
              "Last Updated      0\n",
              "Current Ver       0\n",
              "Android Ver       0\n",
              "dtype: int64"
            ]
          },
          "metadata": {
            "tags": []
          },
          "execution_count": 207
        }
      ]
    },
    {
      "cell_type": "code",
      "metadata": {
        "id": "JmuUu8i8Gcq_",
        "colab_type": "code",
        "colab": {
          "base_uri": "https://localhost:8080/",
          "height": 185
        },
        "outputId": "95b79458-6a66-43f0-8422-7cc4e2eb878b"
      },
      "source": [
        "#checking category\n",
        "df['Category'].unique()\n",
        "#we dont have any unrelated categories"
      ],
      "execution_count": 208,
      "outputs": [
        {
          "output_type": "execute_result",
          "data": {
            "text/plain": [
              "array(['ART_AND_DESIGN', 'AUTO_AND_VEHICLES', 'BEAUTY',\n",
              "       'BOOKS_AND_REFERENCE', 'BUSINESS', 'COMICS', 'COMMUNICATION',\n",
              "       'DATING', 'EDUCATION', 'ENTERTAINMENT', 'EVENTS', 'FINANCE',\n",
              "       'FOOD_AND_DRINK', 'HEALTH_AND_FITNESS', 'HOUSE_AND_HOME',\n",
              "       'LIBRARIES_AND_DEMO', 'LIFESTYLE', 'GAME', 'FAMILY', 'MEDICAL',\n",
              "       'SOCIAL', 'SHOPPING', 'PHOTOGRAPHY', 'SPORTS', 'TRAVEL_AND_LOCAL',\n",
              "       'TOOLS', 'PERSONALIZATION', 'PRODUCTIVITY', 'PARENTING', 'WEATHER',\n",
              "       'VIDEO_PLAYERS', 'NEWS_AND_MAGAZINES', 'MAPS_AND_NAVIGATION'],\n",
              "      dtype=object)"
            ]
          },
          "metadata": {
            "tags": []
          },
          "execution_count": 208
        }
      ]
    },
    {
      "cell_type": "code",
      "metadata": {
        "id": "kzR6R33PH_bL",
        "colab_type": "code",
        "colab": {}
      },
      "source": [
        "a = df['Current Ver'].unique()\n",
        "with np.printoptions(threshold=np.inf):\n",
        "    print(a)\n",
        "#There is some versions which include non numeric and unicode characters we could replace them but current version is not relative with ranking obviously so we can jsut drop it.\n",
        "df = df.drop(columns='Current Ver')"
      ],
      "execution_count": 0,
      "outputs": []
    },
    {
      "cell_type": "code",
      "metadata": {
        "id": "xv2LWbl9Hg9a",
        "colab_type": "code",
        "colab": {}
      },
      "source": [
        "df['Price'].unique()\n",
        "# we have a dolar sign and we should remove it :\n",
        "df['Price'] = df['Price'].str.replace('$','')\n"
      ],
      "execution_count": 0,
      "outputs": []
    },
    {
      "cell_type": "code",
      "metadata": {
        "id": "S1bwy6S7LO_R",
        "colab_type": "code",
        "colab": {
          "base_uri": "https://localhost:8080/",
          "height": 204
        },
        "outputId": "11c0e54b-9793-4d8c-cb8c-c7683cc9df8f"
      },
      "source": [
        "df['Price'].unique()\n",
        "#removed"
      ],
      "execution_count": 211,
      "outputs": [
        {
          "output_type": "execute_result",
          "data": {
            "text/plain": [
              "array(['0', '4.99', '3.99', '6.99', '7.99', '5.99', '2.99', '3.49',\n",
              "       '1.99', '9.99', '7.49', '0.99', '9.00', '5.49', '10.00', '24.99',\n",
              "       '11.99', '79.99', '16.99', '14.99', '29.99', '12.99', '2.49',\n",
              "       '10.99', '1.50', '19.99', '15.99', '33.99', '39.99', '3.95',\n",
              "       '4.49', '1.70', '8.99', '1.49', '3.88', '399.99', '17.99',\n",
              "       '400.00', '3.02', '1.76', '4.84', '4.77', '1.61', '2.50', '1.59',\n",
              "       '6.49', '1.29', '299.99', '379.99', '37.99', '18.99', '389.99',\n",
              "       '8.49', '1.75', '14.00', '2.00', '3.08', '2.59', '19.40', '3.90',\n",
              "       '4.59', '15.46', '3.04', '13.99', '4.29', '3.28', '4.60', '1.00',\n",
              "       '2.95', '2.90', '1.97', '2.56', '1.20'], dtype=object)"
            ]
          },
          "metadata": {
            "tags": []
          },
          "execution_count": 211
        }
      ]
    },
    {
      "cell_type": "code",
      "metadata": {
        "id": "2-4voa36N4Jn",
        "colab_type": "code",
        "colab": {
          "base_uri": "https://localhost:8080/",
          "height": 36
        },
        "outputId": "fb4d34b6-19bf-4f11-e4cc-7c4b1534d4be"
      },
      "source": [
        "df['Price'] = df['Price'].astype(float) # as you can see above datatype of price column is \"object\" we turn it to float\n",
        "df['Price'].dtype"
      ],
      "execution_count": 212,
      "outputs": [
        {
          "output_type": "execute_result",
          "data": {
            "text/plain": [
              "dtype('float64')"
            ]
          },
          "metadata": {
            "tags": []
          },
          "execution_count": 212
        }
      ]
    },
    {
      "cell_type": "code",
      "metadata": {
        "id": "k6RSu32WLasZ",
        "colab_type": "code",
        "colab": {}
      },
      "source": [
        "df['Installs'].unique()\n",
        "# we should remove '+' sign\n",
        "df['Installs'] = df['Installs'].str.replace('+','')"
      ],
      "execution_count": 0,
      "outputs": []
    },
    {
      "cell_type": "code",
      "metadata": {
        "id": "0q3VXAFdLvNa",
        "colab_type": "code",
        "colab": {
          "base_uri": "https://localhost:8080/",
          "height": 36
        },
        "outputId": "92b5c9a8-9629-45c0-f9a0-3365eb743abb"
      },
      "source": [
        "\n",
        "df['Installs'] = df['Installs'].str.replace(',', '')  # we should remove ',' for convert these strings to float\n",
        "df['Installs'].unique()\n",
        "df['Installs'] = df['Installs'].astype(float)\n",
        "df['Installs'].dtype"
      ],
      "execution_count": 214,
      "outputs": [
        {
          "output_type": "execute_result",
          "data": {
            "text/plain": [
              "dtype('float64')"
            ]
          },
          "metadata": {
            "tags": []
          },
          "execution_count": 214
        }
      ]
    },
    {
      "cell_type": "code",
      "metadata": {
        "id": "ywEfeDmaMEAl",
        "colab_type": "code",
        "colab": {}
      },
      "source": [
        "#also  app name doesnt mean anything for rating so just drop it.\n",
        "df = df.drop(columns='App')\n"
      ],
      "execution_count": 0,
      "outputs": []
    },
    {
      "cell_type": "code",
      "metadata": {
        "id": "CzVFPI1lNZ_1",
        "colab_type": "code",
        "colab": {}
      },
      "source": [
        "#check size column\n",
        "df['Size'].unique()\n",
        "#our base will kilobyte so gonna just replace 'M' with '000', 'k' with '', we know its not true according to 1024kb = 1mb but its apprx. "
      ],
      "execution_count": 0,
      "outputs": []
    },
    {
      "cell_type": "code",
      "metadata": {
        "id": "ZQZaZAG0U_ra",
        "colab_type": "code",
        "colab": {}
      },
      "source": [
        "df['Size'] = df['Size'].str.replace('k','')\n",
        "df['Size'] = df['Size'].str.replace('M', '000')\n",
        "df['Size'] = df['Size'].str.replace('.', '')\n",
        "df = df[~df['Size'].isin(['Varies with device'])] #removed rows which contain varies with devices because we are not that much talented to manipulate it correclty\n",
        "df['Size'].unique()"
      ],
      "execution_count": 0,
      "outputs": []
    },
    {
      "cell_type": "code",
      "metadata": {
        "id": "z7n7fyggXQJp",
        "colab_type": "code",
        "colab": {
          "base_uri": "https://localhost:8080/",
          "height": 36
        },
        "outputId": "8f01f49a-8f40-4d9c-d724-2fc5d66fb812"
      },
      "source": [
        "df['Size'] = df['Size'].astype(float)\n",
        "df['Size'].dtype   # converted it to float"
      ],
      "execution_count": 218,
      "outputs": [
        {
          "output_type": "execute_result",
          "data": {
            "text/plain": [
              "dtype('float64')"
            ]
          },
          "metadata": {
            "tags": []
          },
          "execution_count": 218
        }
      ]
    },
    {
      "cell_type": "code",
      "metadata": {
        "id": "1TaOYyq2XjHP",
        "colab_type": "code",
        "colab": {
          "base_uri": "https://localhost:8080/",
          "height": 73
        },
        "outputId": "38a7e3fd-e4ee-4af7-df23-768169b08520"
      },
      "source": [
        "df['Rating'].dtype \n",
        "df['Rating'].unique() # seemslike its fine"
      ],
      "execution_count": 219,
      "outputs": [
        {
          "output_type": "execute_result",
          "data": {
            "text/plain": [
              "array([4.1, 3.9, 4.7, 4.5, 4.3, 4.4, 3.8, 4.2, 4.6, 4. , 4.8, 4.9, 3.6,\n",
              "       3.7, 3.2, 3.3, 3.4, 3.5, 3.1, 5. , 2.6, 3. , 1.9, 2.5, 2.8, 2.7,\n",
              "       1. , 2.9, 2.3, 2.2, 1.7, 2. , 1.8, 2.4, 1.6, 2.1, 1.4, 1.5, 1.2])"
            ]
          },
          "metadata": {
            "tags": []
          },
          "execution_count": 219
        }
      ]
    },
    {
      "cell_type": "code",
      "metadata": {
        "id": "ht97yc-XX_al",
        "colab_type": "code",
        "colab": {
          "base_uri": "https://localhost:8080/",
          "height": 36
        },
        "outputId": "4c99e801-22db-4da3-dfb9-ab6870a96e33"
      },
      "source": [
        "df['Reviews'].unique() # lets check ,can we convert it to float if we can its ok otherwise there is some non numeric chars"
      ],
      "execution_count": 220,
      "outputs": [
        {
          "output_type": "execute_result",
          "data": {
            "text/plain": [
              "array(['159', '967', '87510', ..., '603', '1195', '398307'], dtype=object)"
            ]
          },
          "metadata": {
            "tags": []
          },
          "execution_count": 220
        }
      ]
    },
    {
      "cell_type": "code",
      "metadata": {
        "id": "5w21UHJWYhz9",
        "colab_type": "code",
        "colab": {
          "base_uri": "https://localhost:8080/",
          "height": 36
        },
        "outputId": "75a16639-a8ed-4f51-d49f-a7b1f21a719b"
      },
      "source": [
        "df['Reviews'] = df['Reviews'].astype(float)\n",
        "df['Reviews'].dtype # noice"
      ],
      "execution_count": 221,
      "outputs": [
        {
          "output_type": "execute_result",
          "data": {
            "text/plain": [
              "dtype('float64')"
            ]
          },
          "metadata": {
            "tags": []
          },
          "execution_count": 221
        }
      ]
    },
    {
      "cell_type": "code",
      "metadata": {
        "id": "urjBcH4CY0MY",
        "colab_type": "code",
        "colab": {
          "base_uri": "https://localhost:8080/",
          "height": 241
        },
        "outputId": "d039ee49-b029-40c3-a4f5-99646a28ca2b"
      },
      "source": [
        "df['Type'] = df['Type'].str.replace('Free', '0') \n",
        "df['Type'] = df['Type'].str.replace('Paid', '1')\n",
        "df['Type'].astype(int)\n",
        "# so we mapped free and paid app to 0 and 1 according to their type\n"
      ],
      "execution_count": 222,
      "outputs": [
        {
          "output_type": "execute_result",
          "data": {
            "text/plain": [
              "0        0\n",
              "1        0\n",
              "2        0\n",
              "3        0\n",
              "4        0\n",
              "        ..\n",
              "10833    0\n",
              "10834    0\n",
              "10836    0\n",
              "10837    0\n",
              "10840    0\n",
              "Name: Type, Length: 7723, dtype: int64"
            ]
          },
          "metadata": {
            "tags": []
          },
          "execution_count": 222
        }
      ]
    },
    {
      "cell_type": "code",
      "metadata": {
        "id": "UDXV0bZ0Z4mx",
        "colab_type": "code",
        "colab": {
          "base_uri": "https://localhost:8080/",
          "height": 36
        },
        "outputId": "47a06a46-f508-49a9-9eaf-c92fea0b4d98"
      },
      "source": [
        "# there is some attributes such as content rating and category we should turn them to a numeric key so ML can compare them not as numaric value but as key value\n",
        "encode = preprocessing.LabelEncoder()\n",
        "df['Content Rating'] = encode.fit_transform(df['Content Rating'])\n",
        "df['Content Rating'].dtype"
      ],
      "execution_count": 223,
      "outputs": [
        {
          "output_type": "execute_result",
          "data": {
            "text/plain": [
              "dtype('int64')"
            ]
          },
          "metadata": {
            "tags": []
          },
          "execution_count": 223
        }
      ]
    },
    {
      "cell_type": "code",
      "metadata": {
        "id": "OMbF8UMdayDZ",
        "colab_type": "code",
        "colab": {
          "base_uri": "https://localhost:8080/",
          "height": 54
        },
        "outputId": "fd6477e0-4eba-42a8-fb74-845497400a08"
      },
      "source": [
        "# we should make same thing on category but save the categories in a list maybe we can use it again\n",
        "\n",
        "cat_list = df['Category'].unique().tolist()\n",
        "df['Category'] = encode.fit_transform(df['Category'])\n",
        "df['Category'].unique() # seems fine we know data type is int  because of encoder' magic skills"
      ],
      "execution_count": 224,
      "outputs": [
        {
          "output_type": "execute_result",
          "data": {
            "text/plain": [
              "array([ 0,  1,  2,  3,  4,  5,  6,  7,  8,  9, 10, 12, 13, 15, 16, 17, 18,\n",
              "       14, 11, 20, 27, 26, 24, 28, 30, 29, 23, 25, 22, 32, 31, 21, 19])"
            ]
          },
          "metadata": {
            "tags": []
          },
          "execution_count": 224
        }
      ]
    },
    {
      "cell_type": "code",
      "metadata": {
        "id": "gNt9mCBFcE6P",
        "colab_type": "code",
        "colab": {
          "base_uri": "https://localhost:8080/",
          "height": 185
        },
        "outputId": "027f847c-6e6d-49c4-e7a2-f564bb7d517b"
      },
      "source": [
        "df['Genres'] = encode.fit_transform(df['Genres'])\n",
        "df['Genres'].unique()"
      ],
      "execution_count": 225,
      "outputs": [
        {
          "output_type": "execute_result",
          "data": {
            "text/plain": [
              "array([  9,  11,  10,  12,  13,  18,  20,  32,  33,  34,  35,  36,  39,\n",
              "        40,  37,  42,  38,  49,  51,  54,  56,  57,  58,  59,  62,  63,\n",
              "        64,  65,   3,   6,  25,  21,  31,  99,   0,  79,  97, 111,  84,\n",
              "        28,  92,   2,  14, 106,  87,  94,   1,  27,  93,  46,  81,  47,\n",
              "        23,  45,  48,  26,  53,  29,  70,   8,  95,  82,  85,  44,   7,\n",
              "        50,  80,  88, 100,  69,  61,   5,  16,  15,  17,  30,  41,  90,\n",
              "        55, 108,  22,  67,  96,  91,  77, 104, 105, 103,  76,  78,  72,\n",
              "        73,  74,  75, 110, 107,  71,  66,  60,  68,  43,  24,   4, 109,\n",
              "        52,  98,  19,  83,  89, 102,  86, 101])"
            ]
          },
          "metadata": {
            "tags": []
          },
          "execution_count": 225
        }
      ]
    },
    {
      "cell_type": "code",
      "metadata": {
        "id": "cPtxsXZlcc5O",
        "colab_type": "code",
        "colab": {
          "base_uri": "https://localhost:8080/",
          "height": 424
        },
        "outputId": "a844a3da-6f92-4b9a-e9ed-46ad20108d67"
      },
      "source": [
        "# since our date have string and int together we should encode this code with strptime which its perfectly fit for this job (it is recognize mounth names )\n",
        "# %B month full name, %b aynısı ama kısaltma ingilicce XD , %d day , %Y year\n",
        "df['Last Updated'] = df['Last Updated'].str.replace(',', '')     #remove ',' it for fit it to shape of strptime arguement\n",
        "df['Last Updated'] = df['Last Updated'].apply(lambda x : time.mktime(datetime.datetime.strptime(x, '%B %d %Y').timetuple()))\n",
        "df\n",
        "#  we are ready for ML part"
      ],
      "execution_count": 226,
      "outputs": [
        {
          "output_type": "execute_result",
          "data": {
            "text/html": [
              "<div>\n",
              "<style scoped>\n",
              "    .dataframe tbody tr th:only-of-type {\n",
              "        vertical-align: middle;\n",
              "    }\n",
              "\n",
              "    .dataframe tbody tr th {\n",
              "        vertical-align: top;\n",
              "    }\n",
              "\n",
              "    .dataframe thead th {\n",
              "        text-align: right;\n",
              "    }\n",
              "</style>\n",
              "<table border=\"1\" class=\"dataframe\">\n",
              "  <thead>\n",
              "    <tr style=\"text-align: right;\">\n",
              "      <th></th>\n",
              "      <th>Category</th>\n",
              "      <th>Rating</th>\n",
              "      <th>Reviews</th>\n",
              "      <th>Size</th>\n",
              "      <th>Installs</th>\n",
              "      <th>Type</th>\n",
              "      <th>Price</th>\n",
              "      <th>Content Rating</th>\n",
              "      <th>Genres</th>\n",
              "      <th>Last Updated</th>\n",
              "      <th>Android Ver</th>\n",
              "    </tr>\n",
              "  </thead>\n",
              "  <tbody>\n",
              "    <tr>\n",
              "      <th>0</th>\n",
              "      <td>0</td>\n",
              "      <td>4.1</td>\n",
              "      <td>159.0</td>\n",
              "      <td>19000.0</td>\n",
              "      <td>10000.0</td>\n",
              "      <td>0</td>\n",
              "      <td>0.0</td>\n",
              "      <td>1</td>\n",
              "      <td>9</td>\n",
              "      <td>1.515283e+09</td>\n",
              "      <td>4.0.3 and up</td>\n",
              "    </tr>\n",
              "    <tr>\n",
              "      <th>1</th>\n",
              "      <td>0</td>\n",
              "      <td>3.9</td>\n",
              "      <td>967.0</td>\n",
              "      <td>14000.0</td>\n",
              "      <td>500000.0</td>\n",
              "      <td>0</td>\n",
              "      <td>0.0</td>\n",
              "      <td>1</td>\n",
              "      <td>11</td>\n",
              "      <td>1.515974e+09</td>\n",
              "      <td>4.0.3 and up</td>\n",
              "    </tr>\n",
              "    <tr>\n",
              "      <th>2</th>\n",
              "      <td>0</td>\n",
              "      <td>4.7</td>\n",
              "      <td>87510.0</td>\n",
              "      <td>87000.0</td>\n",
              "      <td>5000000.0</td>\n",
              "      <td>0</td>\n",
              "      <td>0.0</td>\n",
              "      <td>1</td>\n",
              "      <td>9</td>\n",
              "      <td>1.533082e+09</td>\n",
              "      <td>4.0.3 and up</td>\n",
              "    </tr>\n",
              "    <tr>\n",
              "      <th>3</th>\n",
              "      <td>0</td>\n",
              "      <td>4.5</td>\n",
              "      <td>215644.0</td>\n",
              "      <td>25000.0</td>\n",
              "      <td>50000000.0</td>\n",
              "      <td>0</td>\n",
              "      <td>0.0</td>\n",
              "      <td>4</td>\n",
              "      <td>9</td>\n",
              "      <td>1.528416e+09</td>\n",
              "      <td>4.2 and up</td>\n",
              "    </tr>\n",
              "    <tr>\n",
              "      <th>4</th>\n",
              "      <td>0</td>\n",
              "      <td>4.3</td>\n",
              "      <td>967.0</td>\n",
              "      <td>28000.0</td>\n",
              "      <td>100000.0</td>\n",
              "      <td>0</td>\n",
              "      <td>0.0</td>\n",
              "      <td>1</td>\n",
              "      <td>10</td>\n",
              "      <td>1.529453e+09</td>\n",
              "      <td>4.4 and up</td>\n",
              "    </tr>\n",
              "    <tr>\n",
              "      <th>...</th>\n",
              "      <td>...</td>\n",
              "      <td>...</td>\n",
              "      <td>...</td>\n",
              "      <td>...</td>\n",
              "      <td>...</td>\n",
              "      <td>...</td>\n",
              "      <td>...</td>\n",
              "      <td>...</td>\n",
              "      <td>...</td>\n",
              "      <td>...</td>\n",
              "      <td>...</td>\n",
              "    </tr>\n",
              "    <tr>\n",
              "      <th>10833</th>\n",
              "      <td>3</td>\n",
              "      <td>4.8</td>\n",
              "      <td>44.0</td>\n",
              "      <td>619.0</td>\n",
              "      <td>1000.0</td>\n",
              "      <td>0</td>\n",
              "      <td>0.0</td>\n",
              "      <td>1</td>\n",
              "      <td>18</td>\n",
              "      <td>1.395533e+09</td>\n",
              "      <td>2.2 and up</td>\n",
              "    </tr>\n",
              "    <tr>\n",
              "      <th>10834</th>\n",
              "      <td>11</td>\n",
              "      <td>4.0</td>\n",
              "      <td>7.0</td>\n",
              "      <td>26000.0</td>\n",
              "      <td>500.0</td>\n",
              "      <td>0</td>\n",
              "      <td>0.0</td>\n",
              "      <td>1</td>\n",
              "      <td>36</td>\n",
              "      <td>1.497744e+09</td>\n",
              "      <td>4.1 and up</td>\n",
              "    </tr>\n",
              "    <tr>\n",
              "      <th>10836</th>\n",
              "      <td>11</td>\n",
              "      <td>4.5</td>\n",
              "      <td>38.0</td>\n",
              "      <td>53000.0</td>\n",
              "      <td>5000.0</td>\n",
              "      <td>0</td>\n",
              "      <td>0.0</td>\n",
              "      <td>1</td>\n",
              "      <td>36</td>\n",
              "      <td>1.500941e+09</td>\n",
              "      <td>4.1 and up</td>\n",
              "    </tr>\n",
              "    <tr>\n",
              "      <th>10837</th>\n",
              "      <td>11</td>\n",
              "      <td>5.0</td>\n",
              "      <td>4.0</td>\n",
              "      <td>36000.0</td>\n",
              "      <td>100.0</td>\n",
              "      <td>0</td>\n",
              "      <td>0.0</td>\n",
              "      <td>1</td>\n",
              "      <td>36</td>\n",
              "      <td>1.530835e+09</td>\n",
              "      <td>4.1 and up</td>\n",
              "    </tr>\n",
              "    <tr>\n",
              "      <th>10840</th>\n",
              "      <td>18</td>\n",
              "      <td>4.5</td>\n",
              "      <td>398307.0</td>\n",
              "      <td>19000.0</td>\n",
              "      <td>10000000.0</td>\n",
              "      <td>0</td>\n",
              "      <td>0.0</td>\n",
              "      <td>1</td>\n",
              "      <td>64</td>\n",
              "      <td>1.532477e+09</td>\n",
              "      <td>Varies with device</td>\n",
              "    </tr>\n",
              "  </tbody>\n",
              "</table>\n",
              "<p>7723 rows × 11 columns</p>\n",
              "</div>"
            ],
            "text/plain": [
              "       Category  Rating   Reviews  ...  Genres  Last Updated         Android Ver\n",
              "0             0     4.1     159.0  ...       9  1.515283e+09        4.0.3 and up\n",
              "1             0     3.9     967.0  ...      11  1.515974e+09        4.0.3 and up\n",
              "2             0     4.7   87510.0  ...       9  1.533082e+09        4.0.3 and up\n",
              "3             0     4.5  215644.0  ...       9  1.528416e+09          4.2 and up\n",
              "4             0     4.3     967.0  ...      10  1.529453e+09          4.4 and up\n",
              "...         ...     ...       ...  ...     ...           ...                 ...\n",
              "10833         3     4.8      44.0  ...      18  1.395533e+09          2.2 and up\n",
              "10834        11     4.0       7.0  ...      36  1.497744e+09          4.1 and up\n",
              "10836        11     4.5      38.0  ...      36  1.500941e+09          4.1 and up\n",
              "10837        11     5.0       4.0  ...      36  1.530835e+09          4.1 and up\n",
              "10840        18     4.5  398307.0  ...      64  1.532477e+09  Varies with device\n",
              "\n",
              "[7723 rows x 11 columns]"
            ]
          },
          "metadata": {
            "tags": []
          },
          "execution_count": 226
        }
      ]
    },
    {
      "cell_type": "markdown",
      "metadata": {
        "id": "tzpcE_MgxGwh",
        "colab_type": "text"
      },
      "source": [
        ""
      ]
    },
    {
      "cell_type": "code",
      "metadata": {
        "id": "QBDgMs0IfUgl",
        "colab_type": "code",
        "colab": {
          "base_uri": "https://localhost:8080/",
          "height": 640
        },
        "outputId": "0f3e57b2-0731-4776-ae71-c41869f97411"
      },
      "source": [
        "# KNN\n",
        "features = ['Reviews', 'Size', 'Installs', 'Type', 'Price', 'Content Rating', 'Genres', 'Last Updated']   \n",
        "\n",
        "X = df[features]\n",
        "y = df['Rating']\n",
        "X_train, X_test, y_train, y_test = train_test_split(X, y, test_size = 0.25, random_state = 10)\n",
        "knn = KNeighborsRegressor(n_neighbors=800)#deneme\n",
        "\n",
        "knn.fit(X_train, y_train)\n",
        "\n",
        "\n",
        "accuracy = model.score(X_test,y_test)\n",
        "'Accuracy: ' + str(np.round(accuracy*100, 2)) + '%'\n",
        "\n",
        "numbers = np.arange(20, 200, 10)                # we are trying see effect of neighbor count on our prediction , grapsh is below\n",
        "scores = []\n",
        "for x in numbers:\n",
        "    knn.set_params(n_neighbors=x)\n",
        "    knn.fit(X_train, y_train)\n",
        "    scores.append(knn.score(X_test, y_test)*100)\n",
        "plt.figure(figsize=(25, 10))\n",
        "plt.title(\"Effect of K Values\")\n",
        "plt.xlabel(\"Number of Neighbors(K Value)\")\n",
        "plt.ylabel(\"Accuracy %\")\n",
        "plt.plot(n_neighbors, scores)\n"
      ],
      "execution_count": 234,
      "outputs": [
        {
          "output_type": "execute_result",
          "data": {
            "text/plain": [
              "[<matplotlib.lines.Line2D at 0x7f38874f0470>]"
            ]
          },
          "metadata": {
            "tags": []
          },
          "execution_count": 234
        },
        {
          "output_type": "display_data",
          "data": {
            "image/png": "[encoded data removed]",
            "text/plain": [
              "<Figure size 1800x720 with 1 Axes>"
            ]
          },
          "metadata": {
            "tags": []
          }
        }
      ]
    },
    {
      "cell_type": "code",
      "metadata": {
        "id": "c_Uwe1LGnVGg",
        "colab_type": "code",
        "colab": {
          "base_uri": "https://localhost:8080/",
          "height": 640
        },
        "outputId": "5e9a1d16-afe7-42cc-fd94-70207bb7c374"
      },
      "source": [
        "#Random Forest Regressor \n",
        "\n",
        "\n",
        "\n",
        "rfr = RandomForestRegressor(n_jobs=-1)\n",
        "estimators = np.arange(10, 200, 10)\n",
        "scores = []\n",
        "for n in estimators:\n",
        "    rfr.set_params(n_estimators=n)\n",
        "    rfr.fit(X_train, y_train)\n",
        "    scores.append(rfr.score(X_test, y_test)*100)\n",
        "plt.figure(figsize=(25, 10))\n",
        "plt.title('Accuracy of the Test w/ Number of Estimators')\n",
        "plt.xlabel('Number of Estimators')\n",
        "plt.ylabel('Accuracy %')\n",
        "plt.plot(estimators, scores)\n",
        "\n",
        "\n"
      ],
      "execution_count": 233,
      "outputs": [
        {
          "output_type": "execute_result",
          "data": {
            "text/plain": [
              "[<matplotlib.lines.Line2D at 0x7f38875edb38>]"
            ]
          },
          "metadata": {
            "tags": []
          },
          "execution_count": 233
        },
        {
          "output_type": "display_data",
          "data": {
            "image/png": "[encoded data removed]",
            "text/plain": [
              "<Figure size 1800x720 with 1 Axes>"
            ]
          },
          "metadata": {
            "tags": []
          }
        }
      ]
    }
  ]
}